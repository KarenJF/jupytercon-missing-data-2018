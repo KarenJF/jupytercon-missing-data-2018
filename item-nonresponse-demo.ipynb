{
 "cells": [
  {
   "cell_type": "markdown",
   "metadata": {},
   "source": [
    "# Item Nonresponse Demo"
   ]
  },
  {
   "cell_type": "code",
   "execution_count": null,
   "metadata": {},
   "outputs": [],
   "source": [
    "# To generate and store data.\n",
    "import numpy as np\n",
    "import pandas as pd\n",
    "\n",
    "# To visualize data.\n",
    "import matplotlib.pyplot as plt\n",
    "\n",
    "# To fit linear regression model.\n",
    "from sklearn.linear_model import LinearRegression\n",
    "\n",
    "# Install and import missingno to visualize missingness patterns.\n",
    "!pip install missingno\n",
    "import missingno as msno\n",
    "\n",
    "# There is a SciPy issue that won't affect our work, but a warning exists\n",
    "# and an update is not imminent.\n",
    "import warnings\n",
    "warnings.filterwarnings(action=\"ignore\")\n",
    "\n",
    "# To render plots in the notebook.\n",
    "%matplotlib inline"
   ]
  },
  {
   "cell_type": "markdown",
   "metadata": {},
   "source": [
    "### Let's generate some data. Specifically, we'll generate age, partnered, children, and income data, where income is linearly related to age, partnered, and children."
   ]
  },
  {
   "cell_type": "code",
   "execution_count": null,
   "metadata": {},
   "outputs": [],
   "source": [
    "# To ensure we get the same results.\n",
    "np.random.seed(42)\n",
    "\n",
    "# Generate data.\n",
    "age = np.random.uniform(20, 60, size = 100)\n",
    "partnered = np.random.binomial(1, 0.8, size = 100)\n",
    "children = np.random.poisson(2, size = 100)\n",
    "income = 15000 + 750 * age + 20000 * partnered - 2500 * children + np.random.normal(0, 20000, size = 100)\n",
    "\n",
    "# Ensure income is not negative!\n",
    "income = [i if i >= 0 else 0 for i in income]\n",
    "\n",
    "# Combine our results into one dataframe.\n",
    "df = pd.DataFrame({'age': age,\n",
    "                   'partnered': partnered,\n",
    "                   'children': children,\n",
    "                   'income': income})\n",
    "\n",
    "# Check the first five rows of df to make sure we did this properly.\n",
    "df.head()"
   ]
  },
  {
   "cell_type": "markdown",
   "metadata": {},
   "source": [
    "### Run this cell. These are functions that will generate missing values according to MCAR, MAR, or NMAR."
   ]
  },
  {
   "cell_type": "code",
   "execution_count": null,
   "metadata": {
    "collapsed": true
   },
   "outputs": [],
   "source": [
    "def create_mcar_column(df, missing_column = 'income', p_missing = 0.01, random_state = 42):\n",
    "    \"\"\"\n",
    "    Creates missingness indicator column, where data are MCAR (missing completely at random).\n",
    "    \n",
    "    User must specify:\n",
    "        df = the pandas DataFrame the user wants to read in for analysis\n",
    "        column = the name of the column in df that is missing\n",
    "        p_missing = the proportion of observations that are missing\n",
    "        \n",
    "    Function returns:\n",
    "        mcar_column = a column that indicates whether data are missing, assuming MCAR\n",
    "    \"\"\"\n",
    "    np.random.seed(random_state)\n",
    "    \n",
    "    mcar_indices = [df.sample(n = 1).index[0] for i in range(round(p_missing * df.shape[0]))]\n",
    "    \n",
    "    while len(set(mcar_indices)) < round(p_missing * df.shape[0]):\n",
    "        mcar_indices.append(df.sample(n = 1).index[0])\n",
    "    \n",
    "    mcar_column = [1 if i in mcar_indices else 0 for i in range(df.shape[0])]\n",
    "    \n",
    "    return mcar_column\n",
    "\n",
    "def create_mar_column(df, missing_column = 'income', depends_on = 'age', method = 'linear', p_missing = 0.01, random_state = 42):\n",
    "    \"\"\"\n",
    "    Creates missingness indicator column, where data are MAR (missing at random).\n",
    "    \n",
    "    User must specify:\n",
    "        df = the pandas DataFrame the user wants to read in for analysis\n",
    "        missing_column = the name of the column in df that is missing\n",
    "        depends_on = the name of the column in df which affects the missingness\n",
    "        method = 'linear' or 'quadratic'\n",
    "            - 'linear' means the probability of missingness is linearly related to the depends_on variable\n",
    "            - 'quadratic' means the probability of missingness is quadratically related to the depends_on variable\n",
    "        p_missing = the proportion of observations that are missing\n",
    "        \n",
    "    Function returns:\n",
    "        mar_column = a column that indicates whether data are missing, assuming MAR\n",
    "    \"\"\"\n",
    "    np.random.seed(random_state)\n",
    "    \n",
    "    if method == 'linear':\n",
    "        mar_indices = [df.sample(n = 1, weights = depends_on).index[0] for i in range(round(p_missing * df.shape[0]))]\n",
    "\n",
    "        while len(set(mar_indices)) < round(p_missing * df.shape[0]):\n",
    "            mar_indices.append(df.sample(n = 1, weights = depends_on).index[0])\n",
    "    \n",
    "    elif method == 'quadratic':\n",
    "        mar_indices = [df.sample(n = 1, weights = df[depends_on] ** 2).index[0] for i in range(round(p_missing * df.shape[0]))]\n",
    "\n",
    "        while len(set(mar_indices)) < round(p_missing * df.shape[0]):\n",
    "            mar_indices.append(df.sample(n = 1, weights = df[depends_on] ** 2).index[0])\n",
    "\n",
    "    mar_column = [1 if i in mar_indices else 0 for i in range(df.shape[0])]\n",
    "        \n",
    "    return mar_column\n",
    "\n",
    "def create_nmar_column(df, missing_column = 'income', method = 'linear', p_missing = 0.01, random_state = 42):\n",
    "    \"\"\"\n",
    "    Creates missingness indicator column, where data are NMAR (not missing at random).\n",
    "    \n",
    "    User must specify:\n",
    "        df = the pandas DataFrame the user wants to read in for analysis\n",
    "        missing_column = the name of the column in df that is missing\n",
    "        method = 'linear' or 'quadratic'\n",
    "            - 'linear' means the probability of missingness is linearly related to the depends_on variable\n",
    "            - 'quadratic' means the probability of missingness is quadratically related to the depends_on variable\n",
    "        p_missing = the proportion of observations that are missing\n",
    "        \n",
    "    Function returns:\n",
    "        nmar_column = a column that indicates whether data are missing, assuming NMAR\n",
    "    \"\"\"\n",
    "    np.random.seed(random_state)\n",
    "    \n",
    "    if method == 'linear':\n",
    "        nmar_indices = [df.sample(n = 1, weights = missing_column).index[0] for i in range(round(p_missing * df.shape[0]))]\n",
    "\n",
    "        while len(set(nmar_indices)) < round(p_missing * df.shape[0]):\n",
    "            nmar_indices.append(df.sample(n = 1, weights = missing_column).index[0])\n",
    "    \n",
    "    elif method == 'quadratic':\n",
    "        nmar_indices = [df.sample(n = 1, weights = df[missing_column] ** 2).index[0] for i in range(round(p_missing * df.shape[0]))]\n",
    "\n",
    "        while len(set(nmar_indices)) < round(p_missing * df.shape[0]):\n",
    "            nmar_indices.append(df.sample(n = 1, weights = df[missing_column] ** 2).index[0])\n",
    "            \n",
    "    nmar_column = [1 if i in nmar_indices else 0 for i in range(df.shape[0])]\n",
    "    \n",
    "    return nmar_column"
   ]
  },
  {
   "cell_type": "markdown",
   "metadata": {},
   "source": [
    "### Let's generate some missing data!"
   ]
  },
  {
   "cell_type": "code",
   "execution_count": null,
   "metadata": {},
   "outputs": [],
   "source": [
    "df['age_missingness'] = create_mcar_column(df,\n",
    "                                           missing_column = 'age',                                           \n",
    "                                           p_missing = 0.3,\n",
    "                                           random_state = 42)\n",
    "\n",
    "df['partnered_missingness'] = create_mar_column(df,\n",
    "                                                missing_column = 'partnered',\n",
    "                                                method = 'linear',\n",
    "                                                p_missing = 0.2,\n",
    "                                                random_state = 42)\n",
    "\n",
    "df['income_missingness'] = create_nmar_column(df,\n",
    "                                              missing_column = 'income',\n",
    "                                              method = 'quadratic',\n",
    "                                              p_missing = 0.2,\n",
    "                                              random_state = 42)\n",
    "\n",
    "print(df['age_missingness'].value_counts())\n",
    "print(df['partnered_missingness'].value_counts())\n",
    "print(df['income_missingness'].value_counts())"
   ]
  },
  {
   "cell_type": "markdown",
   "metadata": {},
   "source": [
    "### Let's create a new dataframe with the values actually missing."
   ]
  },
  {
   "cell_type": "code",
   "execution_count": null,
   "metadata": {},
   "outputs": [],
   "source": [
    "df_missing = pd.DataFrame(df['children'])\n",
    "\n",
    "df_missing['age'] = [df.loc[i,'age'] if df.loc[i,'age_missingness'] == 0 else np.nan for i in range(100)]\n",
    "df_missing['partnered'] = [df.loc[i,'partnered'] if df.loc[i,'partnered_missingness'] == 0 else np.nan for i in range(100)]\n",
    "df_missing['income'] = [df.loc[i,'income'] if df.loc[i,'income_missingness'] == 0 else np.nan for i in range(100)]\n",
    "\n",
    "df_missing.head()"
   ]
  },
  {
   "cell_type": "markdown",
   "metadata": {},
   "source": [
    "### Let's visualize our missing data.\n",
    "- Children is 100% observed.\n",
    "- Age is missing completely at random and is missing 30% of its observations.\n",
    "- Partnered is missing at random and is missing 20% of its observations.\n",
    "- Income is missing at random and is missing 20% of its observations."
   ]
  },
  {
   "cell_type": "code",
   "execution_count": null,
   "metadata": {},
   "outputs": [],
   "source": [
    "msno.matrix(df_missing);"
   ]
  },
  {
   "cell_type": "markdown",
   "metadata": {},
   "source": [
    "### Generate bar charts/histograms."
   ]
  },
  {
   "cell_type": "code",
   "execution_count": null,
   "metadata": {},
   "outputs": [],
   "source": [
    "fig, (ax0, ax1) = plt.subplots(nrows = 2, ncols = 1, figsize = (16,9))\n",
    "\n",
    "# Set labels and axes.\n",
    "ax0.set_xlabel(\"Age\", position = (0,0), ha = 'left', fontsize = 25, color = 'grey', alpha = 0.85)\n",
    "ax0.set_ylabel(\"Frequency\", position = (0,1), ha = 'right', va = 'top', fontsize = 25, rotation = 0, color = 'grey', alpha = 0.85)\n",
    "ax0.set_xlim(20,60)\n",
    "ax0.set_ylim(0,15)\n",
    "\n",
    "# Generate histogram.\n",
    "ax0.hist(df['age'], bins = 15, color = '#185fad', alpha = 0.75, label = '')\n",
    "ax0.set_title('Histogram of Age', position = (0,1), ha = 'left', fontsize = 25)\n",
    "ax0.axvline(np.mean(df['age']), color = 'blue', lw = 3, label = 'True Mean')\n",
    "ax0.axvline(np.mean(df['age'][df['age_missingness'] == 0]), color = 'orange', lw = 3, label = 'Observed Mean')\n",
    "ax0.legend(prop={'size': 15}, loc = 1)\n",
    "\n",
    "ax0.set_xticks([])\n",
    "ax0.set_yticks([])\n",
    "\n",
    "ax1.set_xlabel(\"Age\", position = (0,0), ha = 'left', fontsize = 25, color = 'grey', alpha = 0.85)\n",
    "ax1.set_ylabel(\"Frequency\", position = (0,1), ha = 'right', va = 'top', fontsize = 25, rotation = 0, color = 'grey', alpha = 0.85)\n",
    "ax1.set_xlim(20,60)\n",
    "ax1.set_ylim(0,15)\n",
    "\n",
    "ax1.hist(df['age'][df['age_missingness'] == 0], bins = 15, color = '#185fad', alpha = 0.75, label = '')\n",
    "ax1.axvline(np.mean(df['age']), color = 'blue', lw = 3, label = 'True Mean')\n",
    "ax1.axvline(np.mean(df['age'][df['age_missingness'] == 0]), color = 'orange', lw = 3, label = 'Observed Mean')\n",
    "ax1.legend(prop={'size': 15}, loc = 1)\n",
    "\n",
    "plt.show();"
   ]
  },
  {
   "cell_type": "code",
   "execution_count": null,
   "metadata": {
    "collapsed": true
   },
   "outputs": [],
   "source": [
    "df['age_mean_imputed'] = [df.loc[i,'age'] if df.loc[i,'age_missingness'] == 0 else np.mean(df['age']) for i in range(100)]"
   ]
  },
  {
   "cell_type": "code",
   "execution_count": null,
   "metadata": {
    "collapsed": true
   },
   "outputs": [],
   "source": [
    "fig, (ax0, ax1) = plt.subplots(nrows = 2, ncols = 1, figsize = (16,9))\n",
    "\n",
    "# Set labels and axes.\n",
    "ax0.set_xlabel(\"Age\", position = (0,0), ha = 'left', fontsize = 25, color = 'grey', alpha = 0.85)\n",
    "ax0.set_ylabel(\"Frequency\", position = (0,1), ha = 'right', va = 'top', fontsize = 25, rotation = 0, color = 'grey', alpha = 0.85)\n",
    "ax0.set_xlim(20,60)\n",
    "ax0.set_ylim(0,35)\n",
    "\n",
    "# Generate histogram.\n",
    "ax0.hist(df['age'], bins = 15, color = '#185fad', alpha = 0.75, label = '')\n",
    "ax0.set_title('Histogram of Age', position = (0,1), ha = 'left', fontsize = 25)\n",
    "ax0.axvline(np.mean(df['age']), color = 'blue', lw = 3, label = 'True Mean')\n",
    "ax0.axvline(np.mean(df['age_mean_imputed']), color = 'orange', lw = 3, label = 'Imputed Mean')\n",
    "ax0.legend(prop={'size': 15}, loc = 1)\n",
    "\n",
    "ax0.set_xticks([])\n",
    "ax0.set_yticks([])\n",
    "\n",
    "ax1.set_xlabel(\"Age\", position = (0,0), ha = 'left', fontsize = 25, color = 'grey', alpha = 0.85)\n",
    "ax1.set_ylabel(\"Frequency\", position = (0,1), ha = 'right', va = 'top', fontsize = 25, rotation = 0, color = 'grey', alpha = 0.85)\n",
    "ax1.set_xlim(20,60)\n",
    "ax1.set_ylim(0,35)\n",
    "\n",
    "ax1.hist(df['age_mean_imputed'], bins = 15, color = '#185fad', alpha = 0.75, label = '')\n",
    "ax1.axvline(np.mean(df['age']), color = 'blue', lw = 3, label = 'True Mean')\n",
    "ax1.axvline(np.mean(df['age_mean_imputed']), color = 'orange', lw = 3, label = 'Imputed Mean')\n",
    "ax1.legend(prop={'size': 15}, loc = 1)\n",
    "\n",
    "plt.show();"
   ]
  }
 ],
 "metadata": {
  "kernelspec": {
   "display_name": "Python 3",
   "language": "python",
   "name": "python3"
  },
  "language_info": {
   "codemirror_mode": {
    "name": "ipython",
    "version": 3
   },
   "file_extension": ".py",
   "mimetype": "text/x-python",
   "name": "python",
   "nbconvert_exporter": "python",
   "pygments_lexer": "ipython3",
   "version": "3.5.4"
  }
 },
 "nbformat": 4,
 "nbformat_minor": 2
}
